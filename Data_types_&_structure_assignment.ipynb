{
  "nbformat": 4,
  "nbformat_minor": 0,
  "metadata": {
    "colab": {
      "provenance": []
    },
    "kernelspec": {
      "name": "python3",
      "display_name": "Python 3"
    },
    "language_info": {
      "name": "python"
    }
  },
  "cells": [
    {
      "cell_type": "markdown",
      "source": [
        "# 1. WHAT ARE DATA STRUCTURE AND WHY THEY ARE IMPORTANT?\n",
        "  - DATA STRUCTURE ARRE SPECIALIZED FORMATS OR WAY TO ORGANIZE, STORE, AND MANAGE DATA. IT'S IMPORTANT BECAUSE :-\n",
        "  - IT'S ALLOWS FAST SEARCHING, INSERTION OR DELETION OF DATA.\n",
        "  - HELPS SOLVE PROBLEM FASTER.\n",
        "  - ALGORITHM ARE BUILD ON DATA STRUCTURE.\n",
        "  - IT'S KEEP DATA ORGANIZED\n",
        "  "
      ],
      "metadata": {
        "id": "AEJUiD0gmLTw"
      }
    },
    {
      "cell_type": "markdown",
      "source": [
        "# 2. EXPLAIN THE DIFF. BETWEEN MUTABLE AND IMMUTABLE DATA TYPES WITH EX.?\n",
        "  - MUTABLE DATA TYPES CAN CHANGE ITS VALUE AFTER CREATION.\n",
        "  - LIKE (LIST, DICT, SET)\n",
        "  - EX."
      ],
      "metadata": {
        "id": "NevWsvScoIHj"
      }
    },
    {
      "cell_type": "code",
      "source": [
        "my_list = [1, 2, 3]\n",
        "my_list[0] = 10\n",
        "print(my_list)"
      ],
      "metadata": {
        "colab": {
          "base_uri": "https://localhost:8080/"
        },
        "id": "llajhc1NtDG-",
        "outputId": "8a9d9d95-97a3-48a1-c428-2353153d2fb8"
      },
      "execution_count": null,
      "outputs": [
        {
          "output_type": "stream",
          "name": "stdout",
          "text": [
            "[10, 2, 3]\n"
          ]
        }
      ]
    },
    {
      "cell_type": "markdown",
      "source": [
        "  - IMMUTABLE DATA TYPES CANNOT CHANGE ITS VALUE AFTER IS CREATED.\n",
        "  - LIKE (INT, FLOAT, BOOL, STR, TUPLE)\n",
        "  - EX."
      ],
      "metadata": {
        "id": "nAqUkQFvtJtu"
      }
    },
    {
      "cell_type": "code",
      "source": [
        "name = \"python\"\n",
        "name[0] = \"h\"\n",
        "print(name)"
      ],
      "metadata": {
        "colab": {
          "base_uri": "https://localhost:8080/",
          "height": 176
        },
        "id": "bpy9xjjGtjnY",
        "outputId": "3a409889-fd6c-4e9b-f310-ef9c65371206"
      },
      "execution_count": null,
      "outputs": [
        {
          "output_type": "error",
          "ename": "TypeError",
          "evalue": "'str' object does not support item assignment",
          "traceback": [
            "\u001b[0;31m---------------------------------------------------------------------------\u001b[0m",
            "\u001b[0;31mTypeError\u001b[0m                                 Traceback (most recent call last)",
            "\u001b[0;32m/tmp/ipython-input-3-874132002.py\u001b[0m in \u001b[0;36m<cell line: 0>\u001b[0;34m()\u001b[0m\n\u001b[1;32m      1\u001b[0m \u001b[0mname\u001b[0m \u001b[0;34m=\u001b[0m \u001b[0;34m\"python\"\u001b[0m\u001b[0;34m\u001b[0m\u001b[0;34m\u001b[0m\u001b[0m\n\u001b[0;32m----> 2\u001b[0;31m \u001b[0mname\u001b[0m\u001b[0;34m[\u001b[0m\u001b[0;36m0\u001b[0m\u001b[0;34m]\u001b[0m \u001b[0;34m=\u001b[0m \u001b[0;34m\"h\"\u001b[0m\u001b[0;34m\u001b[0m\u001b[0;34m\u001b[0m\u001b[0m\n\u001b[0m\u001b[1;32m      3\u001b[0m \u001b[0mprint\u001b[0m\u001b[0;34m(\u001b[0m\u001b[0mname\u001b[0m\u001b[0;34m)\u001b[0m\u001b[0;34m\u001b[0m\u001b[0;34m\u001b[0m\u001b[0m\n",
            "\u001b[0;31mTypeError\u001b[0m: 'str' object does not support item assignment"
          ]
        }
      ]
    },
    {
      "cell_type": "markdown",
      "source": [
        "# 3. WHAT ARE THE MAIN DIFF. BETWEEN LIST AND TUPLE IN PYTHON?\n",
        "  - LIST:-\n",
        "    - LIST IS MUTABLE WE CAN CHANGE VALUE IN IT.\n",
        "    - IN THIS WE USE \"[]\" THIS BRACKET FOR WRITE VALUE.\n",
        "    - USES MORE MEMORY.\n",
        "    - WE USE IT  FOR WHEN DATA CANGE.\n",
        "  - TUPLE:-\n",
        "    - TUPLE ARE IMMUTABLE WE CANNOT CHANGE VALUE IN IT.\n",
        "    - IN THIS WE USE \"()\" THIS BRACKET FOR WRITE VALUE.\n",
        "    - ITS USE LESS MEMORY.\n",
        "    - USE WHEN DATA SHOULD NOT CHANGE.\n"
      ],
      "metadata": {
        "id": "A92JWUTItzhC"
      }
    },
    {
      "cell_type": "markdown",
      "source": [
        "# 4. DISCRIBE HOW DICTIONARIES STORE DATA?\n",
        "  - A DICTIONARY IN PYTHON IS A BUILD IN DATA STRUCTURE THAT STORE DATA AS KEY-VALUE PAIRS.\n",
        "  - EX."
      ],
      "metadata": {
        "id": "Pf6QUcFUv-mv"
      }
    },
    {
      "cell_type": "code",
      "source": [
        "my_dict = {\"name\": \"pawan\", \"age\": 20, \"city\": \"nagpur\"}\n",
        "# \"name\", \"age\", \"city\" - is a keys\n",
        "# \"pawan\", 20, \"nagpur\" - is values"
      ],
      "metadata": {
        "id": "59UZIAptyNGw"
      },
      "execution_count": null,
      "outputs": []
    },
    {
      "cell_type": "markdown",
      "source": [
        "# 5. WHY MIGHT YOU USE A SET INSTEAD OF A LIST IN PYTHON?\n",
        "  - WE MIGHT USE A SET INSTEAD OF A LIST WHEN.-\n",
        "    - NEED UNIQUE ELEMENT.\n",
        "    - WANT FAST MEMBERSHIP TESTING.\n",
        "    - SETS ARE UNORDERED, SO THEY ARE IDAEL WHEN IDEAL DOESN'T MATTER.\n",
        "    - CONVERTING A LIST TO A SET HELPS REMOVE DUPLICATE."
      ],
      "metadata": {
        "id": "Y6NkMdXuzUHh"
      }
    },
    {
      "cell_type": "markdown",
      "source": [
        "# 6. WHAT IS STRING IN PYTHON, AND HOW IS IT DIFFERENT FROM A LIST?\n",
        "  - A STRING IN PYTHON IS A SEQUENCE OF CHARACTERS ENCLOSED IN SINGLE('), DOUBLE(\"), TRIPLE QUOTE(''' OR \"\"\").\n",
        "    - STRING ARE IMMUTABLE AND LIST MUTABLE.\n",
        "    - SYNTAX WRITE IN SINLE, DOUBLE AND TRIPLE QUOTE BUT IN LIST WRITE IN BRACKETS.\n",
        "    - STRING ONLY CONTAINS CHARACTERS AND LIST CONTAINS ANY TYPE OF DATA TYPE."
      ],
      "metadata": {
        "id": "RWlpM_0R_NXE"
      }
    },
    {
      "cell_type": "markdown",
      "source": [
        "# 7. HOW DO TUPLES ENSURE DATA INTEGRITY IN PYTHON?\n",
        "  - A TUPLE IS AN IMMUTABLE SEQUENCE TYPE IN PYTHON ONCE CREATED, ITS CONTENT CANNOT BE CHANGED.ITS ENSURE DATA INTEGRITY BECAUSE.-\n",
        "    - ITS IMMUTABLE.\n",
        "    - TUPLES CAN BE USED AS DICTIONARY KEYS OR IN SET BECAUSE THEY ARE HASHABLE.\n",
        "    - IDEAL FOR STORING CONSTANT OR STRUCTURED DATA THAT MUST REMAIN UNCHANGED."
      ],
      "metadata": {
        "id": "TpeuWkSBB1w3"
      }
    },
    {
      "cell_type": "markdown",
      "source": [
        "# 8. WHAT IS A HASH TABLE, AND HOW DOES IT RELATE TO DICTIONARIS IN PYTHON?\n",
        "  - A HASH TABLE IS A DATA STRUCTURE THAT STORE DATA IN AN ASSOCIATE MANNER, IT MAP KEYS TO VALUES.\n",
        "   - IN PYTHON THE BUILD-IN dict (DICTIONARY) DATA TYPE IS IMPLEMENTED USING A HASH TABLE.\n",
        "   - BOTH HAS KEY-VALUE PAIRS.\n",
        "   - KEY MUST BE HASHBLE.\n",
        "   - FAST LOOKUP INSERT AND DELETE."
      ],
      "metadata": {
        "id": "A9i1PAdnDe_1"
      }
    },
    {
      "cell_type": "markdown",
      "source": [
        "# 9. CAN LIST CONTAIN DIFFERENT DATA TYPE IN PYTHON?\n",
        "  - IN PYTHON, A LIST CAN CONTAIN ELEMENT OF DIFFERENT DATA TYPES.\n",
        "  - ITS CONTAIN-\n",
        "    - AN INTEGER(25)\n",
        "    - A STRING(\"PAWAN)\n",
        "    - A FLOAT(3.14)\n",
        "    - A BOOLEAN(True)\n",
        "    - ANOTHER LIST([1,2,3])\n",
        "    - A DICTIONARY({'KEY\": 'VALUE'})"
      ],
      "metadata": {
        "id": "g2-wcyxcnzom"
      }
    },
    {
      "cell_type": "markdown",
      "source": [
        "# 10. EXPLAIN WHY STRINGS IMMUTABLE IN PYTHON?\n",
        "  - STRING IN PYTHON ARE IMMUTABLE, MEANING ONCE A STRING IS CREATED, IT CANNOT BE CHANGED.\n",
        "  - THERE ARE SEVERAL REASON OF STRING IMMUTABLE IN PYTHON-\n",
        "    - PERFORMANCE OPTIMIZATION: IMMUTABILITY ALLOWS PYTHON TO OPTIMIZE MEMORY USAGE AND PERFORMANCE.\n",
        "    - HASHING: STRINGS ARE OFTEN USED AS KEYS IN DICTIONARIES. FOR A STRING TO BE USED AS KEY, IT MUST BE HASHBLE.\n",
        "    - SIMPLICITY AND PREDICTABILITY: IMMUTABILITY SIMPLIFIES THE UNDERSTANDING OF HOW STRING BEHAVE IN PYTHON.\n",
        "\n",
        "    "
      ],
      "metadata": {
        "id": "a9Vy4sptpr-Y"
      }
    },
    {
      "cell_type": "markdown",
      "source": [
        "# 11. WHAT ADVANTAGES DO DICTIONARIES OFFER OVER LIST FOR CERTAIN TASK?\n",
        "  - LIST AND DICTIONARIES ARE USED TO STORE COLLECTION OF DATA, DICTIONARIES OFFER KEY ADVANTAGES IN SPECIFIC SITUATI0N.\n",
        "    - FAST LOOKUP BY KEY: DICTIONARIES PROVIDE O(1) AVERAGE TIME COMPLEXITY FOR ACCESING VALUES BY KEY,WHEREAS LIST REQUIRE O(n) TIME FOR SEARCHES.\n",
        "    - DICTIONARIES STORE DATA AS KEY-VALUE PAIRS MAKING IT EASIER TO ASSOCIATE AND ACCESS RELATED INFORMATION.\n",
        "    - CLEARER CODE READABILITY THAN LIST.\n",
        "    - NO NEED TO REMEMBER INDEXES."
      ],
      "metadata": {
        "id": "U3uHYKP6teSJ"
      }
    },
    {
      "cell_type": "markdown",
      "source": [
        "# 12. DESCRIBE A SCENARIO WHERE USING A TUPLE WOULD BE PREFERABLE OVER A LIST?\n",
        "  - TUPLES ARE IMMUTABLE, THEIR CONTENTS CANNOT BE CHANGED AFTER CREATION.\n",
        "    - IT HAS ALWAYS A FIXED PAIR OF VALUES.\n",
        "    - SHOULD NOT BE CHANGED ONCE DEFINED.\n",
        "    - OFTEN USED AS KEYS IN A DICTIONARY."
      ],
      "metadata": {
        "id": "2RwURe0zwCe3"
      }
    },
    {
      "cell_type": "markdown",
      "source": [
        "# 13. HOW TO SETS HANDLE DUPLICATE VALUES IN PYTHON?\n",
        "  - IN PYTHON, SETS ARE A BUILD-IN DATA TYPE THAT AUTOMATICALY HANDLE DUPLICATE VALUES BY ONLY ALLOWING UNIQUE ELEMENT. WHEN YOU CREATE A SET, ANY DUPLICATE VALUES ARE AUTOMATICALLY REMOVED."
      ],
      "metadata": {
        "id": "jaaPsvNm3BO9"
      }
    },
    {
      "cell_type": "markdown",
      "source": [
        "# 14. HOW DOES THE \"in\" KEYWORD WORK DIFFERENTLY FOR LISTS AND DICTIONARIES?\n",
        "  - THE \"in\" KEYWORDS IS USED TO CHECK MEMBERSHIP, BUT IT BEHAVES DIFFERENTLY DEPENDING ON THE DATA STRUCTURE.\n",
        "    - FOR LISTS: THE \"in\" KEYWORDS CHECK FOR THE PRESENCE OF A SPECIFIC VALUE WITHIN THE LIST.\n",
        "    - FOR DICTINARIES: THE \"in\" KEYWORDS CHECK FOR THE PRESENCE OF A SPECIFIC KEY WITHIN THE DICTIONARY."
      ],
      "metadata": {
        "id": "wJzzNbtI_TJ6"
      }
    },
    {
      "cell_type": "markdown",
      "source": [
        "# 15. CAN YOU MODIFY THE ELEMENT OF A TUPLE? EXPLAIN WHY OR WHY NOT?\n",
        "  - NO, TUPLES ARE IMMUTABLE IN PYTHON, WHICH MEANS YOU CANNOT MODIFY THEIR ELEMENTS AFTER THEY ARE CREATED. THIS DESIGN CHOICE PROVIDES BENEFITS IN TERMS OF DATA INTEGRITY, PERFORMANCE, AND USABILITY IN CERTAIN CONTEXTS, SUCH AS USING TUPLES AS DICTIONARY KEYS. IF YOU NEED A MUTABLE SEQUENCE, YOU SHOULD USE A LIST INSTEAD."
      ],
      "metadata": {
        "id": "d7SPjwGHCHTd"
      }
    },
    {
      "cell_type": "markdown",
      "source": [
        "# 16. WHAT IS A NESTED DICTIONARY, AND GIVE AN EXAMPLE OF ITS USE CASE?\n",
        "  - A NESTED DICTIONARY IS A DICTIONARY INSIDE ANOTHER DICTIONARY. IT ALLOWS YOU TO STORE STRUCTURED, HIERARCHICAL DATA, LIKE OBJECTS WITHIN OBJECTS."
      ],
      "metadata": {
        "id": "Fkn9cv8yGatV"
      }
    },
    {
      "cell_type": "markdown",
      "source": [
        "# 17. DESCRIBE THE TIME COMPLEXITY OF ACCESSING ELEMENTS IN A DICTIONARY?\n",
        "  - ACCESSING AN ELEMENT IN A PYTHON DICTIONARY (USING A KEY LIKE dict[KEY]) IS TYPICALLY:\n",
        "    - AVERAGE CASE TIME COMPLEXITY: O(1) (CONSTANT TIME)\n",
        "      - THIS IS BECAUSE PYTHON DICTIONARIES ARE IMPLEMENTED USING HASH TABLES, WHERE EACH KEY IS HASHED TO COMPUTE AN INDEX IN AN INTERNAL ARRAY. THIS ALLOWS FOR FAST LOOKUPS ON AVERAGE.\n",
        "    - WORST CASE TIME COMPLEXITY: O(N) (LINEAR TIME)\n",
        "      - IN RARE CASES, HASH COLLISIONS CAN OCCUR — MULTIPLE KEYS MAY MAP TO THE SAME INDEX. IF MANY COLLISIONS HAPPEN, ELEMENTS MAY BE STORED IN A LINKED LIST OR A SIMILAR STRUCTURE AT A SINGLE HASH INDEX. IN SUCH CASES, ACCESSING AN ELEMENT MIGHT TAKE LINEAR TIME RELATIVE TO THE NUMBER OF ELEMENTS."
      ],
      "metadata": {
        "id": "UFkHD1A5ME_G"
      }
    },
    {
      "cell_type": "markdown",
      "source": [
        "# 18. IN WHAT SITUATION ARE LISTS PREFERED OVER DICTIONARIES?\n",
        "  - LISTS ARE PREFERRED OVER DICTIONARIES IN SITUATIONS WHERE THE FOLLOWING CONDITIONS APPLY:\n",
        "    - ORDERED COLLECTION OF ITEMS.\n",
        "    - SIMPLE COLLECTION OF HOMOGENOUS DATA.\n",
        "    - FREQUENT ITERATION.\n",
        "    - DYNAMIC SIZE.\n",
        "    - NO NEED OF KEY-VALUE PAIRING."
      ],
      "metadata": {
        "id": "qOH8bbvQZJs1"
      }
    },
    {
      "cell_type": "markdown",
      "source": [
        "# 19. WHY ARE DICTIONARIES CONSIDERED UNORDERED, AND HOW DOES THAT AFFECT DATA RETRIEVAL?\n",
        "  - DICTIONARIES IN PYTHON ARE CONSIDERED UNORDERED COLLECTIONS BECAUSE THEY DO NOT MAINTAIN THE ORDER OF ELEMENTS BASED ON THEIR INSERTION SEQUENCE. INSTEAD, DICTIONARIES USE A HASH TABLE TO STORE KEY-VALUE PAIRS, WHICH ALLOWS FOR EFFICIENT ACCESS AND RETRIEVAL BUT DOES NOT GUARANTEE ANY SPECIFIC ORDER OF THE KEYS. BUT YOU CANNOT RELY ON THE ORDER OF KEYS WHEN ITERATING OR ACCESSING ELEMENTS. IF ORDER IS IMPORTANT, CONSIDER USING A DIFFERENT DATA STRUCTURE THAT EXPLICITLY MAINTAINS ORDER."
      ],
      "metadata": {
        "id": "vEzGTZ59Zr96"
      }
    },
    {
      "cell_type": "markdown",
      "source": [
        "# 20. EXPLAIN THE DIFFERENCE BETWEEN A LIST AND A DICTIONARY IN TERMS OF DATA RETRIEVAL?\n",
        "  -"
      ],
      "metadata": {
        "id": "biYhb9Ihd2io"
      }
    },
    {
      "cell_type": "code",
      "source": [],
      "metadata": {
        "id": "VR490GEAfABV"
      },
      "execution_count": null,
      "outputs": []
    },
    {
      "cell_type": "code",
      "source": [],
      "metadata": {
        "id": "t-J2CNaTfFUy"
      },
      "execution_count": null,
      "outputs": []
    },
    {
      "cell_type": "code",
      "source": [],
      "metadata": {
        "id": "v2R4NkTzfFwV"
      },
      "execution_count": null,
      "outputs": []
    },
    {
      "cell_type": "code",
      "source": [
        "# 1. WRITE A CODE TO CREATE A STRING WITH YOUR NAME AND PRINT IT?\n",
        "\n",
        "my_name = \"Pawan\"\n",
        "print(\"My name is:\", my_name)\n"
      ],
      "metadata": {
        "colab": {
          "base_uri": "https://localhost:8080/"
        },
        "id": "Aa7pTLblfGVs",
        "outputId": "b5fbcad7-cad7-4946-803d-4c4d47e7f36c"
      },
      "execution_count": null,
      "outputs": [
        {
          "output_type": "stream",
          "name": "stdout",
          "text": [
            "My name is: Pawan\n"
          ]
        }
      ]
    },
    {
      "cell_type": "code",
      "source": [
        "# 2. WRITE A CODE TO FIND THE LENGHT OF THE STRING \"HELLO WORLD\"?\n",
        "\n",
        "text = \"Hello World\"\n",
        "length = len(text)\n",
        "print(\"Length of the string is:\", length)"
      ],
      "metadata": {
        "colab": {
          "base_uri": "https://localhost:8080/"
        },
        "id": "SpLUyWxofwAA",
        "outputId": "34cfed38-52f8-4fe9-fa1d-35d457f1898a"
      },
      "execution_count": null,
      "outputs": [
        {
          "output_type": "stream",
          "name": "stdout",
          "text": [
            "Length of the string is: 11\n"
          ]
        }
      ]
    },
    {
      "cell_type": "code",
      "source": [
        "# 3. WRITE A CODE TO SLICE THE FIRST 3 CHARACTERS FROM THE STRING \"PYTHON PROGRAMMING\"?\n",
        "\n",
        "text = \"Python Programming\"\n",
        "sliced_text = text[:3]\n",
        "print(\"First 3 characters:\", sliced_text)\n"
      ],
      "metadata": {
        "colab": {
          "base_uri": "https://localhost:8080/"
        },
        "id": "-T8AdQMugMfN",
        "outputId": "94f91c36-8efa-4d2a-d025-ce3315c6847d"
      },
      "execution_count": null,
      "outputs": [
        {
          "output_type": "stream",
          "name": "stdout",
          "text": [
            "First 3 characters: Pyt\n"
          ]
        }
      ]
    },
    {
      "cell_type": "code",
      "source": [
        "# 4. WRITE A CODE TO CONVERT THE STRING \"hello\" TO UPPERCASE?\n",
        "\n",
        "text = \"hello\"\n",
        "upper_text = text.upper()\n",
        "print(\"Uppercase string:\", upper_text)"
      ],
      "metadata": {
        "colab": {
          "base_uri": "https://localhost:8080/"
        },
        "id": "S0Gym_UMgvz_",
        "outputId": "46c922df-3b00-4a66-fd28-04f82c773c1f"
      },
      "execution_count": null,
      "outputs": [
        {
          "output_type": "stream",
          "name": "stdout",
          "text": [
            "Uppercase string: HELLO\n"
          ]
        }
      ]
    },
    {
      "cell_type": "code",
      "source": [
        "# 5. WRITE A CODE TO REPLACE THE WORD \"APPLE\" WITH \"ORANGE\" IN THE STRING \"I LIKE APPLE\"?\n",
        "\n",
        "text = \"I LIKE APPLE\"\n",
        "new_text = text.replace(\"APPLE\", \"ORANGE\")\n",
        "print(\"Updated string:\", new_text)"
      ],
      "metadata": {
        "colab": {
          "base_uri": "https://localhost:8080/"
        },
        "id": "XZ4DJEYihI3H",
        "outputId": "7e719421-d2a1-42e5-8636-224e4300c74b"
      },
      "execution_count": null,
      "outputs": [
        {
          "output_type": "stream",
          "name": "stdout",
          "text": [
            "Updated string: I LIKE ORANGE\n"
          ]
        }
      ]
    },
    {
      "cell_type": "code",
      "source": [
        "# 6. WRITE A CODE TO CREATE A LISTS WITH NUMBERS 1 TO 5 AND PRINT IT?\n",
        "\n",
        "numbers = [1, 2, 3, 4, 5]\n",
        "print(\"List of numbers:\", numbers)"
      ],
      "metadata": {
        "colab": {
          "base_uri": "https://localhost:8080/"
        },
        "id": "wrJeQiAKhwF3",
        "outputId": "60df7509-4d87-42a2-bdd4-983a2b28b302"
      },
      "execution_count": null,
      "outputs": [
        {
          "output_type": "stream",
          "name": "stdout",
          "text": [
            "List of numbers: [1, 2, 3, 4, 5]\n"
          ]
        }
      ]
    },
    {
      "cell_type": "code",
      "source": [
        "# 7. WRITE A CODE TO APPEND THE NUMBER 10 TO THE LIST [1,2,3,4].\n",
        "\n",
        "numbers = [1, 2, 3, 4]\n",
        "numbers.append(10)\n",
        "print(\"Updated list:\", numbers)\n"
      ],
      "metadata": {
        "colab": {
          "base_uri": "https://localhost:8080/"
        },
        "id": "Upsxt3yQiLI-",
        "outputId": "d210255f-a500-4dc1-c52d-58aa3cb6d3b6"
      },
      "execution_count": null,
      "outputs": [
        {
          "output_type": "stream",
          "name": "stdout",
          "text": [
            "Updated list: [1, 2, 3, 4, 10]\n"
          ]
        }
      ]
    },
    {
      "cell_type": "code",
      "source": [
        "# 8. WRITE A CODE TO REMOVE THE NUMBER 3 FROM LIST [1,2,3,4,5].\n",
        "\n",
        "numbers = [1, 2, 3, 4, 5]\n",
        "numbers.remove(3)\n",
        "print(\"Updated list:\", numbers)\n"
      ],
      "metadata": {
        "colab": {
          "base_uri": "https://localhost:8080/"
        },
        "id": "G3Z8BZbIiril",
        "outputId": "87dbd429-926c-4170-ebce-98f464274a32"
      },
      "execution_count": null,
      "outputs": [
        {
          "output_type": "stream",
          "name": "stdout",
          "text": [
            "Updated list: [1, 2, 4, 5]\n"
          ]
        }
      ]
    },
    {
      "cell_type": "code",
      "source": [
        "# 9. WRITE A CODE TO ACCESS THE 2ND ELEMENT IN THE LIST ['A','B','C',''D'].\n",
        "\n",
        "letters = ['A', 'B', 'C', 'D']\n",
        "second_element = letters[1]\n",
        "print(\"2nd element in the list:\", second_element)\n"
      ],
      "metadata": {
        "colab": {
          "base_uri": "https://localhost:8080/"
        },
        "id": "A0iVOoyyjBi-",
        "outputId": "0aab822e-4115-4a92-bf38-e165e481cc84"
      },
      "execution_count": null,
      "outputs": [
        {
          "output_type": "stream",
          "name": "stdout",
          "text": [
            "2nd element in the list: B\n"
          ]
        }
      ]
    },
    {
      "cell_type": "code",
      "source": [
        "# 10. WRITE A CODE TO REVERSE THE LIST [10,20,30,40,50].\n",
        "\n",
        "numbers = [10, 20, 30, 40, 50]\n",
        "numbers.reverse()\n",
        "print(\"Reversed list:\", numbers)\n"
      ],
      "metadata": {
        "colab": {
          "base_uri": "https://localhost:8080/"
        },
        "id": "rh9njuXUjjlb",
        "outputId": "d26add7e-9f85-4e69-95d5-83152d09ef9d"
      },
      "execution_count": null,
      "outputs": [
        {
          "output_type": "stream",
          "name": "stdout",
          "text": [
            "Reversed list: [50, 40, 30, 20, 10]\n"
          ]
        }
      ]
    },
    {
      "cell_type": "code",
      "source": [
        "# 11. WRITE A CODE TO CREATE THE TUPLE WITH THE ELEMENT 100, 200, 300 AND PRINT IT?\n",
        "\n",
        "my_tuple = (100, 200, 300)\n",
        "print(\"Tuple:\", my_tuple)\n"
      ],
      "metadata": {
        "colab": {
          "base_uri": "https://localhost:8080/"
        },
        "id": "zqaAJlFGkFD9",
        "outputId": "42c2d802-4e7f-4008-ac64-b26792f8b735"
      },
      "execution_count": null,
      "outputs": [
        {
          "output_type": "stream",
          "name": "stdout",
          "text": [
            "Tuple: (100, 200, 300)\n"
          ]
        }
      ]
    },
    {
      "cell_type": "code",
      "source": [
        "# 12. WRITE A CODE TO ACCESS THE SECOND-TO-LAST ELEMENT OF THE TUPLE ('RED','GREEN','BLUE','YELLOW').\n",
        "\n",
        "colors = ('RED', 'GREEN', 'BLUE', 'YELLOW')\n",
        "second_to_last = colors[-2]\n",
        "print(\"Second-to-last element:\", second_to_last)\n"
      ],
      "metadata": {
        "colab": {
          "base_uri": "https://localhost:8080/"
        },
        "id": "ZzMhB31Lkplu",
        "outputId": "73626659-42c6-44a7-f2ae-495404387598"
      },
      "execution_count": null,
      "outputs": [
        {
          "output_type": "stream",
          "name": "stdout",
          "text": [
            "Second-to-last element: BLUE\n"
          ]
        }
      ]
    },
    {
      "cell_type": "code",
      "source": [
        "# 13. WRITE A CODE TO FIND THE MINIMUM NUMBER IN THE TUPLE (10,20,5,15).\n",
        "\n",
        "numbers = (10, 20, 5, 15)\n",
        "minimum = min(numbers)\n",
        "print(\"Minimum number in the tuple:\", minimum)\n"
      ],
      "metadata": {
        "colab": {
          "base_uri": "https://localhost:8080/"
        },
        "id": "3kTfReTClbQT",
        "outputId": "2e3dbcb6-e4d9-4402-9a99-d644727e2438"
      },
      "execution_count": null,
      "outputs": [
        {
          "output_type": "stream",
          "name": "stdout",
          "text": [
            "Minimum number in the tuple: 5\n"
          ]
        }
      ]
    },
    {
      "cell_type": "code",
      "source": [
        "# 14. WRITE A CODE TO FIND THE INDEX OF THE ELEMENT \"CAT\" IN THE TUPLE ('DOG'.'CAT','RABBIT').\n",
        "\n",
        "animals = ('DOG', 'CAT', 'RABBIT')\n",
        "index = animals.index('CAT')\n",
        "print(\"Index of 'CAT':\", index)\n"
      ],
      "metadata": {
        "colab": {
          "base_uri": "https://localhost:8080/"
        },
        "id": "Lg-UBLqPmBXk",
        "outputId": "4bb16abd-7e2e-43da-9a22-d01686c1512c"
      },
      "execution_count": null,
      "outputs": [
        {
          "output_type": "stream",
          "name": "stdout",
          "text": [
            "Index of 'CAT': 1\n"
          ]
        }
      ]
    },
    {
      "cell_type": "code",
      "source": [
        "# 15. WRITE A CODE TO CREATE A TUPLE CONTAINING THREE different fruits and check if 'kiwi'is in it.\n",
        "\n",
        "fruits = ('apple', 'banana', 'mango')\n",
        "\n",
        "if 'kiwi' in fruits:\n",
        "    print(\"'kiwi' is in the tuple.\")\n",
        "else:\n",
        "    print(\"'kiwi' is not in the tuple.\")\n"
      ],
      "metadata": {
        "id": "0OzUlJDBqbeW",
        "colab": {
          "base_uri": "https://localhost:8080/"
        },
        "outputId": "87f1db8f-bbd5-46b7-a478-ea3f06662362"
      },
      "execution_count": 16,
      "outputs": [
        {
          "output_type": "stream",
          "name": "stdout",
          "text": [
            "'kiwi' is not in the tuple.\n"
          ]
        }
      ]
    },
    {
      "cell_type": "code",
      "source": [
        "# 16. WRITE A CODE TO CREATE A SET WITH THE ELEMENTS 'A','B','C' AND PRINT IT?\n",
        "\n",
        "my_set = {'A', 'B', 'C'}\n",
        "print(my_set)\n"
      ],
      "metadata": {
        "colab": {
          "base_uri": "https://localhost:8080/"
        },
        "id": "tL4dnktgsvAi",
        "outputId": "7b9fce34-a045-409f-9abc-0f5e501cc5b4"
      },
      "execution_count": 23,
      "outputs": [
        {
          "output_type": "stream",
          "name": "stdout",
          "text": [
            "{'C', 'B', 'A'}\n"
          ]
        }
      ]
    },
    {
      "cell_type": "code",
      "source": [
        "# 17. WRITE A CODE TO CLEAR ALL ELEMENTS FROM THE SET {1,2,3,4,5}.\n",
        "\n",
        "my_set = {1, 2, 3, 4, 5}\n",
        "my_set.clear()\n",
        "print(\"Set after clearing:\", my_set)\n"
      ],
      "metadata": {
        "colab": {
          "base_uri": "https://localhost:8080/"
        },
        "id": "SuMdMs02vMbl",
        "outputId": "5cc45360-c527-4955-caf9-5c25fbcb093c"
      },
      "execution_count": 24,
      "outputs": [
        {
          "output_type": "stream",
          "name": "stdout",
          "text": [
            "Set after clearing: set()\n"
          ]
        }
      ]
    },
    {
      "cell_type": "code",
      "source": [
        "# 18. WRITE A CODE TO REMOVE THE ELEMENT 4 FROM THE SET {1,2,3,4}.\n",
        "\n",
        "my_set = {1, 2, 3, 4}\n",
        "my_set.remove(4)\n",
        "print(\"Set after removing 4:\", my_set)\n"
      ],
      "metadata": {
        "colab": {
          "base_uri": "https://localhost:8080/"
        },
        "id": "ndUx8uYmyNJM",
        "outputId": "e0c05e21-7218-404e-b480-4fbdde83c2e7"
      },
      "execution_count": 25,
      "outputs": [
        {
          "output_type": "stream",
          "name": "stdout",
          "text": [
            "Set after removing 4: {1, 2, 3}\n"
          ]
        }
      ]
    },
    {
      "cell_type": "code",
      "source": [
        "# 19. WRITE A CODE TO FIND THE UNION OF TWO SETS {1,2,3} AND {3,4,5}.\n",
        "\n",
        "set1 = {1, 2, 3}\n",
        "set2 = {3, 4, 5}\n",
        "\n",
        "union_set = set1.union(set2)\n",
        "\n",
        "print(\"Union of the sets:\", union_set)\n"
      ],
      "metadata": {
        "colab": {
          "base_uri": "https://localhost:8080/"
        },
        "id": "ropfOXlmy5QP",
        "outputId": "553aec85-442c-482d-8c6d-f1ea354c4356"
      },
      "execution_count": 26,
      "outputs": [
        {
          "output_type": "stream",
          "name": "stdout",
          "text": [
            "Union of the sets: {1, 2, 3, 4, 5}\n"
          ]
        }
      ]
    },
    {
      "cell_type": "code",
      "source": [
        "# 20. WRITE THE CODE TO FIND THE INTERSECTION OF TWO SETS {1,2,3} AND {2,3,4}.\n",
        "\n",
        "set1 = {1, 2, 3}\n",
        "set2 = {2, 3, 4}\n",
        "\n",
        "intersection_set = set1.intersection(set2)\n",
        "\n",
        "print(\"Intersection of the sets:\", intersection_set)\n"
      ],
      "metadata": {
        "colab": {
          "base_uri": "https://localhost:8080/"
        },
        "id": "KkSw8FQMzYl7",
        "outputId": "b7417d02-5afa-45db-f770-7ca776f0154c"
      },
      "execution_count": 27,
      "outputs": [
        {
          "output_type": "stream",
          "name": "stdout",
          "text": [
            "Intersection of the sets: {2, 3}\n"
          ]
        }
      ]
    },
    {
      "cell_type": "code",
      "source": [
        "# 21. WRITE A CODE TO CREATE A DICTIONARY WITH THE KEYS \"NAME\",\"AGE\" AND \"CITY\" AND PRINT IT.\n",
        "\n",
        "person = {\"NAME\": \"Pawan\",\"AGE\": 29,\"CITY\": \"Nagpur\"}\n",
        "print(\"Dictionary:\", person)\n"
      ],
      "metadata": {
        "colab": {
          "base_uri": "https://localhost:8080/"
        },
        "id": "MEix3Np90UzD",
        "outputId": "d0e80ebd-d568-4e3d-c40f-00b5d9347d84"
      },
      "execution_count": 29,
      "outputs": [
        {
          "output_type": "stream",
          "name": "stdout",
          "text": [
            "Dictionary: {'NAME': 'Pawan', 'AGE': 29, 'CITY': 'Nagpur'}\n"
          ]
        }
      ]
    },
    {
      "cell_type": "code",
      "source": [
        "# 22. WRITE A CODE TO ADD A NEW KEY-VALUE PAIR \"COUNTRY\":\"USA\" TO THE DICTIONARY {\"NAME\": \"JOHN\",\"AGE\": 25}.\n",
        "\n",
        "person = {\"NAME\": \"JOHN\", \"AGE\": 25}\n",
        "person[\"COUNTRY\"] = \"USA\"\n",
        "print(\"Updated dictionary:\", person)\n"
      ],
      "metadata": {
        "colab": {
          "base_uri": "https://localhost:8080/"
        },
        "id": "8b4mgQpb7FiT",
        "outputId": "322f9977-7c71-4ad0-fc0a-e1bb14d8ffb8"
      },
      "execution_count": 30,
      "outputs": [
        {
          "output_type": "stream",
          "name": "stdout",
          "text": [
            "Updated dictionary: {'NAME': 'JOHN', 'AGE': 25, 'COUNTRY': 'USA'}\n"
          ]
        }
      ]
    },
    {
      "cell_type": "code",
      "source": [
        "# 23. WRITE A CODE TO ACCESS THE VALUE ASSOCIATE WITH THE KEY \"NAME\" IN THE DICTIONARY {\"NAME\": \"ALICE\",\"AGE\": 30}.\n",
        "\n",
        "person = {\"NAME\": \"ALICE\", \"AGE\": 30}\n",
        "name_value = person[\"NAME\"]\n",
        "print(\"Value associated with 'NAME':\", name_value)\n"
      ],
      "metadata": {
        "colab": {
          "base_uri": "https://localhost:8080/"
        },
        "id": "SYX3TXZu7-Lb",
        "outputId": "68e09781-94b7-48d8-be1d-9a973f5c61a1"
      },
      "execution_count": 31,
      "outputs": [
        {
          "output_type": "stream",
          "name": "stdout",
          "text": [
            "Value associated with 'NAME': ALICE\n"
          ]
        }
      ]
    },
    {
      "cell_type": "code",
      "source": [
        "# 24. WRITE A CODE TO REMOVE THE KEY \"AGE\" FROM THE DICTIONARY {\"NAME\": \"BOB\",\"AGE\": 22,\"CITY\": \"NEW YORK\"}\n",
        "\n",
        "person = {\"NAME\": \"BOB\", \"AGE\": 22, \"CITY\": \"NEW YORK\"}\n",
        "person.pop(\"AGE\")\n",
        "\n",
        "print(\"Updated dictionary:\", person)\n"
      ],
      "metadata": {
        "colab": {
          "base_uri": "https://localhost:8080/"
        },
        "id": "9Ucs7iLi9Zcv",
        "outputId": "8c092165-47bb-47d5-ad6f-fe8766bb542d"
      },
      "execution_count": 32,
      "outputs": [
        {
          "output_type": "stream",
          "name": "stdout",
          "text": [
            "Updated dictionary: {'NAME': 'BOB', 'CITY': 'NEW YORK'}\n"
          ]
        }
      ]
    },
    {
      "cell_type": "code",
      "source": [
        "# 25. WRITE A CODE TO CHECK IF THE KEY \"CITY\" EXISTS IN THE DICTIONARY {\"NAME\": \"ALICE\", \"CITY\": \"PARIS\"}.\n",
        "\n",
        "person = {\"NAME\": \"ALICE\", \"CITY\": \"PARIS\"}\n",
        "\n",
        "if \"CITY\" in person:\n",
        "    print(\"Key 'CITY' exists in the dictionary.\")\n",
        "else:\n",
        "    print(\"Key 'CITY' does not exist in the dictionary.\")\n"
      ],
      "metadata": {
        "colab": {
          "base_uri": "https://localhost:8080/"
        },
        "id": "PqzVslng-BfC",
        "outputId": "e1465e3c-eae1-4db8-ffa6-5eaa49fbf649"
      },
      "execution_count": 33,
      "outputs": [
        {
          "output_type": "stream",
          "name": "stdout",
          "text": [
            "Key 'CITY' exists in the dictionary.\n"
          ]
        }
      ]
    },
    {
      "cell_type": "code",
      "source": [
        "# 26. WRITE A CODE TO CREATE LIST, A TUPLE AND A DICTIONARY AND PRINT THEM ALL.\n",
        "\n",
        "my_list = [1, 2, 3, 4, 5]\n",
        "\n",
        "my_tuple = ('apple', 'banana', 'cherry')\n",
        "\n",
        "my_dict = {\"name\": \"Alice\", \"age\": 30, \"city\": \"Paris\"}\n",
        "\n",
        "print(\"List:\", my_list)\n",
        "print(\"Tuple:\", my_tuple)\n",
        "print(\"Dictionary:\", my_dict)\n"
      ],
      "metadata": {
        "colab": {
          "base_uri": "https://localhost:8080/"
        },
        "id": "RhouECHN-nm2",
        "outputId": "e7d2f477-beee-4af3-9604-e8ae5e6fa77e"
      },
      "execution_count": 34,
      "outputs": [
        {
          "output_type": "stream",
          "name": "stdout",
          "text": [
            "List: [1, 2, 3, 4, 5]\n",
            "Tuple: ('apple', 'banana', 'cherry')\n",
            "Dictionary: {'name': 'Alice', 'age': 30, 'city': 'Paris'}\n"
          ]
        }
      ]
    },
    {
      "cell_type": "code",
      "source": [
        "# 27. WRITE A CODE TO CREATE A LIST OF 5 RANDOM NUMBERS BETWEEN 1 AND 100, SORT IT IN ASCENDING ORDER, AND PRINT THE RESULT."
      ],
      "metadata": {
        "id": "18xwH1VaDwR0"
      },
      "execution_count": null,
      "outputs": []
    },
    {
      "cell_type": "code",
      "source": [
        "# 28. write a code to create a list with string and print the element at the third index.\n",
        "\n",
        "my_list = [\"apple\", \"banana\", \"cherry\", \"date\", \"fig\"]\n",
        "\n",
        "print(\"Element at index 3:\", my_list[3])\n"
      ],
      "metadata": {
        "colab": {
          "base_uri": "https://localhost:8080/"
        },
        "id": "Rm7i3Pm8D-Bh",
        "outputId": "4f45a517-1216-47a1-c8de-8d74463f6832"
      },
      "execution_count": 36,
      "outputs": [
        {
          "output_type": "stream",
          "name": "stdout",
          "text": [
            "Element at index 3: date\n"
          ]
        }
      ]
    },
    {
      "cell_type": "code",
      "source": [
        "# 29. write a code to combine two dictionaries into one and print the result.\n",
        "\n",
        "dict1 = {\"name\": \"Alice\", \"age\": 25}\n",
        "dict2 = {\"city\": \"Paris\", \"country\": \"France\"}\n",
        "\n",
        "combined_dict = {**dict1, **dict2}\n",
        "\n",
        "print(\"Combined Dictionary:\", combined_dict)\n"
      ],
      "metadata": {
        "colab": {
          "base_uri": "https://localhost:8080/"
        },
        "id": "yh8DJdzJEhiN",
        "outputId": "1f7f9e2d-564b-410f-c031-0c259d99af53"
      },
      "execution_count": 37,
      "outputs": [
        {
          "output_type": "stream",
          "name": "stdout",
          "text": [
            "Combined Dictionary: {'name': 'Alice', 'age': 25, 'city': 'Paris', 'country': 'France'}\n"
          ]
        }
      ]
    },
    {
      "cell_type": "code",
      "source": [
        "# 30. WRITE A CODE TO CONVERT A LIST OF STRING INTO A SET.\n",
        "\n",
        "string_list = [\"apple\", \"banana\", \"cherry\", \"apple\"]\n",
        "\n",
        "string_set = set(string_list)\n",
        "print(\"Set:\", string_set)\n"
      ],
      "metadata": {
        "colab": {
          "base_uri": "https://localhost:8080/"
        },
        "id": "QcdT2EeXFR0M",
        "outputId": "d4b13899-fbda-47a8-80ca-50bae30d2445"
      },
      "execution_count": 38,
      "outputs": [
        {
          "output_type": "stream",
          "name": "stdout",
          "text": [
            "Set: {'banana', 'apple', 'cherry'}\n"
          ]
        }
      ]
    }
  ]
}